{
 "cells": [
  {
   "cell_type": "markdown",
   "id": "22df0f02-5505-469b-a663-05e8073be54b",
   "metadata": {},
   "source": [
    "**Respondent 1-  15/4 kl 11:00**\n",
    "**Hur många barn har du?**\n",
    "- 1\n",
    "  \n",
    "**Hur gamla är dina barn?**\n",
    "- 4 år\n",
    "  \n",
    "**Hur fungerar det för dig att få in motion och rörelse sen du blev förälder?**\n",
    "- Mindre tid men försöker prioritera träning och motion men blir ofta tidigt på morgonen eller sent på kvällen. Men det går bra, är ju mycket ute med barnet och så.\n",
    "  \n",
    "**Vad fungerar bra/mindre bra? Märker du någon skillnad från innan och efter barn?**\n",
    "Helt annorlunda än innan. Begränsat låter negativt, men inte lika flexibel och är väldigt fast, mer planering och att man får välja specifika tider.\n",
    "\n",
    "**Om det fungerar bra, vad har gjort att det funkar bra?**\n",
    "- Kan gå att ta med barnet om man typ går ut i skogen men hade nog inte tagit med barn på träningspass.\n",
    "\n",
    "**Vad gör du och ditt barn tillsammans?**\n",
    "- Ute mycket vid bra väder, lekplats, park, skog, stan och fikar, mycket pyssel hemma, rita pärla, fullt ös\n",
    "\n",
    "**Vad hade du velat göra mer av?**\n",
    "- Jag tror att komma ut mer, speciellt när det även är dåligt väder. Blir ofta samma saker, samma lekplats osv, kanske att barnet börjar tröttna på den lekplatsen. Mer ställen i närområdet att leka på kanske.\n",
    "\n",
    "**Hur tar ni er runt till olika platser som ni besöker till vardags?**\n",
    "- Vi går för det mesta. Han har sparkcykel eller något, annars kollektivt.\n",
    "\n",
    "**Vad fungerar bra/mindre bra?**\n",
    "- Fungerar bra med kollektivt, har väldigt nära till många spårvagnslinjer. Det enda är att man inte vill åka när det är mycket folk och att barnet kan bli uttråkad, han älskar inte det\n",
    "\n",
    "**Varför fungerar det bra/mindre bra?**\n",
    "- Det finns tider vi kan åka för att undvika trängsel. Ex vardagar utanför pendlingstider eller helger väldigt tidigt\n",
    "\n",
    "**Vad i ditt liv du har behövt prioritera bort sen du fick barn?**\n",
    "- Mycket egna aktiviteter som jag fått prioritera bort, och min man jobbar ofta sent så har ingen att byta av med. Så mina egna hobbies går inte riktigt att ha tid för. Även umgås med vänner, kan ju inte bara ge sig iväg och är lite tröttare än annars.\n",
    "\n",
    "**Vad hade hjälpt dig att återuppta detta?**\n",
    "- Barnvakt, men då krävs ju planering och att någon kan osv. Men man vill ju inte heller vara jobbig så tar mest det när det är viktiga saker som att jag ska jobba\n",
    "\n",
    "**Hur upplevde du din föräldraledighet?**\n",
    "> **Socialt? Hur såg ditt umgänge ut?**\n",
    "- Var ju det under covid, så det var skittråkigt. Man kunde inte gå ut och träffa folk, alla aktiviteter för föräldralediga var inställt.\n",
    "  \n",
    "> **Aktivt?**\n",
    "- Jag var ute och gick väldigt mycket, promenerade hela dagarna, var på utomhusträning för mammor en gång i veckan. Var ändå ganska kul.\n",
    "\n",
    "**Vart i ditt livspussel hade du behövt extra stöd?**\n",
    "- Svårt att komma på. Man är ju så mycket i sin vardag. Men relaterat till just rörelse kanske  det borde finnas mer saker där man kan ta med barnen och göra saker tillsammans som är planerade. Tillexempel den här föräldrar träningen. Typ inplanerade saker\n",
    "\n",
    "**Har du något annat du vill tillägga? Tips?**\n",
    "- Tror det finns saker man kan hitta.\n"
   ]
  },
  {
   "cell_type": "code",
   "execution_count": null,
   "id": "750339b3-7f98-4c78-ab36-0b8a23f2a982",
   "metadata": {},
   "outputs": [],
   "source": []
  }
 ],
 "metadata": {
  "kernelspec": {
   "display_name": "Python 3 (ipykernel)",
   "language": "python",
   "name": "python3"
  },
  "language_info": {
   "codemirror_mode": {
    "name": "ipython",
    "version": 3
   },
   "file_extension": ".py",
   "mimetype": "text/x-python",
   "name": "python",
   "nbconvert_exporter": "python",
   "pygments_lexer": "ipython3",
   "version": "3.12.1"
  }
 },
 "nbformat": 4,
 "nbformat_minor": 5
}
