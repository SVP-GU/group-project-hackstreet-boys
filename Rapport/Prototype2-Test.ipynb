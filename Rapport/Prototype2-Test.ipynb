{
 "cells": [
  {
   "cell_type": "markdown",
   "id": "f1a6c40c-6e96-49f6-b0ff-43a5116b2683",
   "metadata": {},
   "source": [
    "**Respondent 2**\n",
    "\n",
    "**Vad förstod du direkt? Vad var tydligt?**\n",
    "- Respondent 2 tyckte det var tydligt och han förstod det väl, bra interface. \n",
    "\n",
    "**Var det något du inte förstod?**\n",
    "- Legenden är lite dåligt placerad och lite fel färg. Lite plottrigt när man zoomade ut på kartan. Lite tråkigt att inte alla lekplatser fanns med även fast det var väldigt många med. \n",
    "\n",
    "**Vilka funktioner hade du velat ha med som vi inte har nämnt?**\n",
    "- Söka efter områden för att kunna testa flera lekplatser i samma område. Exempelvis Majorna. \n",
    "\n",
    "**Hade du kunnat använda den här appen i din vardag? På vilket sätt?**\n",
    "- Respondent 2 hade kunnat använda det i sin vardag och tycker applikationens funktion är rolig och användbar. \n"
   ]
  },
  {
   "cell_type": "code",
   "execution_count": null,
   "id": "4c1a68bc-9c70-45ed-893a-6915f1e72684",
   "metadata": {},
   "outputs": [],
   "source": []
  }
 ],
 "metadata": {
  "kernelspec": {
   "display_name": "Python 3 (ipykernel)",
   "language": "python",
   "name": "python3"
  },
  "language_info": {
   "codemirror_mode": {
    "name": "ipython",
    "version": 3
   },
   "file_extension": ".py",
   "mimetype": "text/x-python",
   "name": "python",
   "nbconvert_exporter": "python",
   "pygments_lexer": "ipython3",
   "version": "3.12.1"
  }
 },
 "nbformat": 4,
 "nbformat_minor": 5
}
