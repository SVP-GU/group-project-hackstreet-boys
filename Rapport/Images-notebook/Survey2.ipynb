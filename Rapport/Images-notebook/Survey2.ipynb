{
 "cells": [
  {
   "cell_type": "markdown",
   "id": "b3b6229a-34d6-4577-8d95-62fbd65c6ad2",
   "metadata": {},
   "source": [
    "We made a second survey, to test potential functinos on our problem owners. To help us prioritize as we moved on in our development.\n",
    "\n",
    "To look at the full survey, please see __[Link](https://docs.google.com/forms/d/12NGUYuQehBOoaJ247JB8CKbt2g1ttkTJenMcBI1EI1w/edit#responses)__"
   ]
  },
  {
   "cell_type": "code",
   "execution_count": 1,
   "id": "91e4f0f4-98f6-4ed9-aa05-89226ad79125",
   "metadata": {},
   "outputs": [
    {
     "data": {
      "text/html": [
       "<div style='display: grid; grid-template-columns: 1fr 1fr; gap: 10px;'><img src='it1-emp-enkat2-1.png' style='width:100%; height:auto;'><img src='it1-emp-enkat2-2.png' style='width:100%; height:auto;'><img src='it1-emp-enkat2-3.png' style='width:100%; height:auto;'><img src='it1-emp-enkat2-4.png' style='width:100%; height:auto;'></div>"
      ],
      "text/plain": [
       "<IPython.core.display.HTML object>"
      ]
     },
     "metadata": {},
     "output_type": "display_data"
    }
   ],
   "source": [
    "from IPython.display import HTML, display\n",
    "\n",
    "image_files = [\"it1-emp-enkat2-1.png\", \"it1-emp-enkat2-2.png\", \"it1-emp-enkat2-3.png\", \"it1-emp-enkat2-4.png\"]\n",
    "\n",
    "html = \"<div style='display: grid; grid-template-columns: 1fr 1fr; gap: 10px;'>\"\n",
    "for img in image_files:\n",
    "    html += f\"<img src='{img}' style='width:100%; height:auto;'>\"\n",
    "html += \"</div>\"\n",
    "\n",
    "display(HTML(html))"
   ]
  },
  {
   "cell_type": "code",
   "execution_count": null,
   "id": "d5743634-751d-4c17-bb50-1cbfddf24704",
   "metadata": {},
   "outputs": [],
   "source": []
  }
 ],
 "metadata": {
  "kernelspec": {
   "display_name": "Python 3 (ipykernel)",
   "language": "python",
   "name": "python3"
  },
  "language_info": {
   "codemirror_mode": {
    "name": "ipython",
    "version": 3
   },
   "file_extension": ".py",
   "mimetype": "text/x-python",
   "name": "python",
   "nbconvert_exporter": "python",
   "pygments_lexer": "ipython3",
   "version": "3.12.1"
  }
 },
 "nbformat": 4,
 "nbformat_minor": 5
}
