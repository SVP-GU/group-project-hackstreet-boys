{
 "cells": [
  {
   "cell_type": "markdown",
   "id": "5b41f6d8-1fb6-4d7a-a190-153911e0f2dd",
   "metadata": {},
   "source": [
    "**Respondent 1** \n",
    "**Var det något du inte förstod?** \n",
    "- Vad plupparna betydde hade varit bättre med symboler. Lite plottrigt kanske när man zoomar ut. \n",
    "\n",
    "**Vilka funktioner hade du velat ha med som vi inte har nämnt?**\n",
    "- Istället för färg - symboler som beskriver vad man ser, se vad varje plupp betyder\n",
    "- Om man klickar på en lekplats - att man kan se bilder och information, recension, man kan integrera med den själv\n",
    "- Integrerat så att man kan söka sin resa med spårvagn\n",
    "- Filtrera så att det inte är så många pluppar så man t ex. kan sortera ut var man bor\n",
    "- För att kunna hitta nya lekplatser, hade gärna använt om man kunde filtrera hur nära det är dig, kan man ta spårvagnen\n",
    "- Praktiskt om det står om det finns offentliga toaletter i närheten\n",
    "- Kiosker i närheten\n",
    "\n",
    "**Hade du kunnat använda den här appen i din vardag? På vilket sätt?**\n",
    "- Ja det hade hon kunnat göra. Börjar bli tråkigt att gå till samma ställe och roligt att upptäcka nytt. \n",
    "\n"
   ]
  },
  {
   "cell_type": "code",
   "execution_count": null,
   "id": "0c3cc286-49aa-4fcc-9e52-410bd4dba79d",
   "metadata": {},
   "outputs": [],
   "source": []
  }
 ],
 "metadata": {
  "kernelspec": {
   "display_name": "Python 3 (ipykernel)",
   "language": "python",
   "name": "python3"
  },
  "language_info": {
   "codemirror_mode": {
    "name": "ipython",
    "version": 3
   },
   "file_extension": ".py",
   "mimetype": "text/x-python",
   "name": "python",
   "nbconvert_exporter": "python",
   "pygments_lexer": "ipython3",
   "version": "3.12.1"
  }
 },
 "nbformat": 4,
 "nbformat_minor": 5
}
