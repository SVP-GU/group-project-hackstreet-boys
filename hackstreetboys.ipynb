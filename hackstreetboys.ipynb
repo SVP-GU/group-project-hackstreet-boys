{
 "cells": [
  {
   "cell_type": "markdown",
   "id": "965f8d7c-f730-4927-ad4e-7acb4d023245",
   "metadata": {},
   "source": [
    "# HACK STREET BOYS LOGBOOK \n",
    "  ###  First iteration: "
   ]
  },
  {
   "cell_type": "markdown",
   "id": "3c2f2c6c-cb6d-41a2-970c-06eadd187740",
   "metadata": {},
   "source": [
    "**Our problem owners are parents with young children**\n",
    "- Empathized and tried to understand their problems through interviews and surveys (__[Link](https://docs.google.com/document/d/1HROibuCCTiE6e-Mjo8-m6998k0esZzJ3C2oUl3dqDwI/edit?tab=t.0)__)\n",
    "- Workshopped interview questions and created a survey based on said questions to be able to reach more problem owners, while still being efficient with our time. \n",
    "- Did a problem analysis based on our beliefs to compare with our problem owners"
   ]
  },
  {
   "cell_type": "markdown",
   "id": "9c32491c-bfca-459e-9090-2f4b2083dbaa",
   "metadata": {},
   "source": [
    "#### *Three main problems found:*\n",
    "(This was done through mindmaps and feedback grids)\n",
    "\n",
    "- Space availability for strollers on public transport\n",
    "- Lack of alone time/time for the parent\n",
    "- Lack of communal activities to enjoy **with** your child\n",
    "\n",
    "On all of these problems we did the 5 why's? and aswell as who, what, where and why?  __[Link](https://docs.google.com/document/d/1HROibuCCTiE6e-Mjo8-m6998k0esZzJ3C2oUl3dqDwI/edit?tab=t.0)__\n",
    "\n",
    "Through group discussions and our mutual understandings of the data from our problem owners, our first draft is focused on  *Lack of alone time/time for the parent*\n"
   ]
  },
  {
   "cell_type": "markdown",
   "id": "47fc0b23-b2fd-454e-9188-2f6d7280b3ec",
   "metadata": {},
   "source": [
    "We also decided to focus our project on a more specific group of people to really slim down our solutions and \n",
    "decided on the parameters:\n",
    "\n",
    "Parents of children ages 0-5\n",
    "Living in central gothenburg\n",
    "Living in apartments and decided on a preliminary problem definition: Föräldrar med barn i åldern 0–5 år som bor i lägenhet\n",
    "i centrala Göteborg upplever att de har begränsad egentid. Detta beror främst på att småbarnslivet kräver mycket tid och \n",
    "energi, vilket påverkar deras möjligheter till återhämtning och välmående."
   ]
  },
  {
   "cell_type": "markdown",
   "id": "caf839a7-ce2f-4200-b51b-914ba3750f87",
   "metadata": {},
   "source": [
    "### Prototyping: \n",
    "We started prototyping through discussing a list of possible solutions/features, and then individually sketching out our ideas of how it could look. The first iteration of sketches focused on **planning/optimizing time** and the list of features was: \n",
    "\n",
    "- Funktioner som tagits upp som förslag:\n",
    "- Snabb överblick hur dagen kommer se ut\n",
    "- Lägga in barnen aktiviteter och dina egna\n",
    "- Gemensam kalender för både dig och din partner där man även kan bjuda in anhöriga\n",
    "- Enklast resväg med västtrafik\n",
    "- Boka träningspass\n",
    "- Statistik över saker (exempelvis träning)\n",
    "- Statistik mående\n",
    "- Kartfunktion\n",
    "- Funktion som generera optimal rut för valda ärenden\n",
    "- Lägg till alla aktiviteter som behöver göras\n",
    "- Möjlighet att fördela aktiviteter mellan varandra\n",
    "- Se hur lång tid olika saker tar\n",
    "- Statistik på hur fulla bussarna är\n",
    "- Totalt spenderade timmar\n",
    "- Statistik över vad som tar mest tid\n",
    "- Scrumboard liknande funktion \n",
    "- Aktiviteter kan skrivas vid sidan av innan det läggs in i kalendern\n",
    "- Aktivitetsförfrågan (till sin partner, kommunicera)\n",
    "- Dagschema (live plan, vad händer nu och vad ska jag göra för att det ska gå smidigt?\n",
    "\n",
    "And these are our sketches: __[Link](https://docs.google.com/document/d/1HROibuCCTiE6e-Mjo8-m6998k0esZzJ3C2oUl3dqDwI/edit?tab=t.0)__\n"
   ]
  },
  {
   "cell_type": "markdown",
   "id": "b72c7c57-27ab-4f61-aa11-56c87c14f30a",
   "metadata": {},
   "source": [
    "**We then created digital** prototypes of our ideas, some of them as websites for desktop and some as apps (__[Link](https://docs.google.com/document/d/1HROibuCCTiE6e-Mjo8-m6998k0esZzJ3C2oUl3dqDwI/edit?tab=t.0)__). We tested these on 4 users using **A/B/C testing** which is when we test multiple variant groups simultaneously. \n",
    "\n",
    "* One respondent preferred options two and three, because the interfaces were easy to understand, but had some feedback that some aspects were unneccesary.\n",
    "\n",
    "Input from the test of our first prototypes:\n",
    "\n",
    "*“Gillade mittersta bäst och app! Sen typ skulle jag tyckt att de skulle vart najs om man högst upp på sidan på hemskärmen istället för vädret se typ kommande schema som står kort med närmsta aktiviteter och sen kan man klicka sig in för att se allt på schema. För tänker att de kanske är de man vill se först. Gilla verkligen realtidsinformation för trafik!”*\n",
    "\n",
    "*\"En kalender med partner och gemensam med olika färger, egen för barn, gillar generera rutt (karta) samordna, inte för mycket funktioner, mer som en lista, sista tydlig och bra\"*\n",
    "\n",
    "After having a first iteration of an idea and testing it on users, we started exploring how we could best make use of our urban mobility - dataset and also what  complementary datasets we could use and how they would play into our idea. Here we went back to the **ideate** stage and discussed how our idea could change depending on what additional data we found and decided to use. \n",
    "\n",
    "We also explored  **PYKODA** which is a Python-interface for KoDa API och provides a tool for analysis och machine learning within our data, as well as used **tableu** to visualize both our original data and what we found during our research. \n",
    "\n",
    "We also amended our problem definition: \n",
    "**New problemdefinition:** Föräldrar i centrala Göteborg upplever att de har begränsad egentid. Detta beror främst på att familjelivet kräver mycket tid och energi, vilket påverkar deras möjligheter till återhämtning och välmående.\n",
    "\n",
    "We did another survey (__[Link](https://docs.google.com/document/d/1HROibuCCTiE6e-Mjo8-m6998k0esZzJ3C2oUl3dqDwI/edit?tab=t.0)__) regarding what functions we should prioritize in our project, which together with the relevant information and datasets we had avaliable to us, lead to:"
   ]
  },
  {
   "cell_type": "markdown",
   "id": "1d858648-25dd-4da0-a153-1ac1876bd363",
   "metadata": {},
   "source": [
    " ###  Second iteration: \n",
    "\n",
    "In our second iteration we started by finding the additional data we wanted to use, we found a dataset containing all playgrounds in the area and their location, as well as characteristics (avaliability, etc.), which we decided to combine with our data on public transit in our chosen area.\n",
    "\n",
    "When we had landed on a final idea we also brainstormed what kind of AI we wanted to use in our program and landed on clustering, based on the workshops and how it fit into our project.\n",
    "\n",
    "**Cluster analysis** of playgrounds in proximity to bus and tram stops (playgrounds grouped by their distance to stops).\n",
    "\n",
    "**Functions:**\n",
    "- Input where you are or where your going\n",
    "- Output a map or list of what playgrounds are close and where they're located\n",
    "\n",
    "(Kod-exempel här?)\n",
    "\n",
    "This is alaso when we finalized stakeholders.\n",
    "- **Final stakeholders:** Föräldrar med små barn som bor i Göteborg.\n",
    "\n",
    "We also defined our geographical area to **Central Gothenburg**. This is defined as **Stadsområde Centrum** according to Göteborgs Stad as:\n",
    "*Kålltorp-Torpa-Björkekärr, Kallebäck-Skår-Kärralund, Krokslätt-Johanneberg, Guldheden-Landala, Olivedal-Haga-Annedal-Änggården, Kungsladugård-Sanna, Majorna-Stigberget-Masthugget, Norra Centrum, Lunden-Härlanda-Överås, Olskroken-Redbergslid-Bagaregården*.\n",
    "\n",
    "When we started coding we sat down and had a meeting regarding how we wanted to work in github, which was very helpful in ensuring everyone was on the same page, and avoiding double work.\n",
    "\n",
    "(Maybe integrate some early code here?)\n",
    "\n",
    "As soon as we had a  basic prototype we scheduled user testing. We had one user who is also a parent test the prototype and give us valuable feedback. We prioritized the feedback using **the MoSCoW method** (__[Link](https://docs.google.com/document/d/1HROibuCCTiE6e-Mjo8-m6998k0esZzJ3C2oUl3dqDwI/edit?tab=t.0)__)\n",
    "\n",
    "Based on our testing we did some more brainstorming/mindmapping and sketching.\n",
    "\n",
    "Our first interview also led to a \n",
    "**New problem definition:** Föräldrar i Göteborg upplever att de har begränsad tid och att aktiviteterna med barn blir enformiga. Hur kan vi effektivisera den tiden som är med barnet för att frigöra mer tid samtidigt som vi uppmuntrar till fysisk rörelse, nya upplevelser på ett enklare sätt genom Göteborgsområdet. \n",
    "\n",
    "Based on the feedback we had gotten so far this is what we integrated into our code:\n",
    "- *Made symbols for the map with stops and playgrounds instead of dots so you know what is what.*\n",
    "- *Analyzed K-means and the performance of our supervised AI. How it works.*\n",
    "- *See which playgrounds are closest to one and the same stop.*\n",
    "- *Changed coordinates because we had two different ones before. Now the coordinates for playgrounds and stops are the same. We also now have more data and more playgrounds. This is not optimal.We therefore now need to change the cluster in k-means because we have more data.*\n",
    "- *Tried to have the entire tram line displayed on the map as well as it's nearest playgrounds. It is not entirely optimal as some stops that do not belong to the chosen line are included on the map but the functionality works.*\n",
    "\n",
    "(Infoga något kodexemepl här?)\n",
    "\n",
    "We then had our second user test with another parent, and analyzed the feedback from that. \n",
    "\n",
    "We also decided it was important to add an about-page and to clarify where our data came from. \n",
    "\n",
    "\n",
    "\n",
    "\n",
    "\n"
   ]
  }
 ],
 "metadata": {
  "kernelspec": {
   "display_name": "Python 3 (ipykernel)",
   "language": "python",
   "name": "python3"
  },
  "language_info": {
   "codemirror_mode": {
    "name": "ipython",
    "version": 3
   },
   "file_extension": ".py",
   "mimetype": "text/x-python",
   "name": "python",
   "nbconvert_exporter": "python",
   "pygments_lexer": "ipython3",
   "version": "3.12.1"
  }
 },
 "nbformat": 4,
 "nbformat_minor": 5
}
