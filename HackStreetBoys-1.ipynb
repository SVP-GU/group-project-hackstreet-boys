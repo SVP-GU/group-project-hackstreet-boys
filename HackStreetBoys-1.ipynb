{
  "metadata": {
    "kernelspec": {
      "name": "python",
      "display_name": "Python (Pyodide)",
      "language": "python"
    },
    "language_info": {
      "codemirror_mode": {
        "name": "python",
        "version": 3
      },
      "file_extension": ".py",
      "mimetype": "text/x-python",
      "name": "python",
      "nbconvert_exporter": "python",
      "pygments_lexer": "ipython3",
      "version": "3.8"
    }
  },
  "nbformat_minor": 5,
  "nbformat": 4,
  "cells": [
    {
      "id": "90148493-a8cc-4963-8d0c-2e7f39bc6668",
      "cell_type": "markdown",
      "source": "# HACK STREET BOYS LOGBOOK \n  ###  First iteration: ",
      "metadata": {}
    },
    {
      "id": "7dc47a3e-e072-401e-ae2e-7a0a3538d5e1",
      "cell_type": "markdown",
      "source": "**Our problem owners are parents with young children**\n- Empathized and tried to understand their problems through interviews and surveys\n- Workshopped interview questions and created a survey based on said questions to be able to reach more problem owners, while still being efficient with our time. \n- Did a problem analysis based on our beliefs to compare with our problem owners",
      "metadata": {}
    },
    {
      "id": "1c72c1b6-56c3-4b47-aaf3-a4b5a97511d4",
      "cell_type": "markdown",
      "source": "#### *Three main problems found:*\n(This was done through mindmaps and feedback grids)\n\n- Space availability for strollers on public transport\n- Lack of alone time/time for the parent\n- Lack of communal activities to enjoy **with** your child\n\nOn all of these problems we did the 5 why's? and aswell as who, what, where and why? **(Link)** **(Link)**\n\nThrough group discussions and our mutual understandings of the data from our problem owners, our first draft is focused on  *Lack of alone time/time for the parent*\n",
      "metadata": {}
    },
    {
      "id": "ea37661f-9219-4f2c-bcc0-81171308bc3d",
      "cell_type": "markdown",
      "source": "We also decided to focus our project on a more specific group of people to really slim down our solutions and decided on the parameters: \n- *Parents of children ages 0-5*\n- *Living in central gothenburg*\n- *Living in apartments*\n\nand decided on a preliminary **problem definition**: \n    *Föräldrar med barn i åldern 0–5 år som bor i lägenhet i centrala Göteborg upplever att de har begränsad egentid. Detta beror främst på att småbarnslivet kräver mycket tid och energi, vilket påverkar deras möjligheter till återhämtning och välmående.*",
      "metadata": {}
    },
    {
      "id": "e3a6457e-2e7f-46fc-b2df-fcdea3e280de",
      "cell_type": "markdown",
      "source": "### Prototyping: \nWe started prototyping through discussing a list of possible solutions/features, and then individually sketching out our ideas of how it could look. The first iteration of sketches focused on **planning/optimizing time** and the list of features was: \n\n- Funktioner som tagits upp som förslag:\n- Snabb överblick hur dagen kommer se ut\n- Lägga in barnen aktiviteter och dina egna\n- Gemensam kalender för både dig och din partner där man även kan bjuda in anhöriga\n- Enklast resväg med västtrafik\n- Boka träningspass\n- Statistik över saker (exempelvis träning)\n- Statistik mående\n- Kartfunktion\n- Funktion som generera optimal rut för valda ärenden\n- Lägg till alla aktiviteter som behöver göras\n- Möjlighet att fördela aktiviteter mellan varandra\n- Se hur lång tid olika saker tar\n- Statistik på hur fulla bussarna är\n- Totalt spenderade timmar\n- Statistik över vad som tar mest tid\n- Scrumboard liknande funktion \n- Aktiviteter kan skrivas vid sidan av innan det läggs in i kalendern\n- Aktivitetsförfrågan (till sin partner, kommunicera)\n- Dagschema (live plan, vad händer nu och vad ska jag göra för att det ska gå smidigt?\n\nAnd these are our sketches: **(Link)**\n",
      "metadata": {}
    },
    {
      "id": "05d8eb4d-e5dc-45c1-8921-15d5451d59ae",
      "cell_type": "code",
      "source": "",
      "metadata": {
        "trusted": true
      },
      "outputs": [],
      "execution_count": null
    }
  ]
}