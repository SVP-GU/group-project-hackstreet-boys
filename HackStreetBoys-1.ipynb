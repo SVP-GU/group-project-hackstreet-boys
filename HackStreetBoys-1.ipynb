{
  "cells": [
    {
      "cell_type": "markdown",
      "id": "90148493-a8cc-4963-8d0c-2e7f39bc6668",
      "metadata": {},
      "source": [
        "# HACK STREET BOYS LOGBOOK \n",
        "  ###  First iteration: "
      ]
    },
    {
      "cell_type": "markdown",
      "id": "7dc47a3e-e072-401e-ae2e-7a0a3538d5e1",
      "metadata": {},
      "source": [
        "**Our problem owners are parents with young children**\n",
        "- Empathized and tried to understand their problems through interviews and surveys\n",
        "- Workshopped interview questions and created a survey based on said questions to be able to reach more problem owners, while still being efficient with our time. \n",
        "- Did a problem analysis based on our beliefs to compare with our problem owners"
      ]
    },
    {
      "cell_type": "markdown",
      "id": "1c72c1b6-56c3-4b47-aaf3-a4b5a97511d4",
      "metadata": {},
      "source": [
        "#### *Three main problems found:*\n",
        "(This was done through mindmaps and feedback grids)\n",
        "\n",
        "- Space availability for strollers on public transport\n",
        "- Lack of alone time/time for the parent\n",
        "- Lack of communal activities to enjoy **with** your child\n",
        "\n",
        "On all of these problems we did the 5 why's? and aswell as who, what, where and why? **(Link)** **(Link)**\n",
        "\n",
        "Through group discussions and our mutual understandings of the data from our problem owners, our first draft is focused on  *Lack of alone time/time for the parent*\n"
      ]
    },
    {
      "cell_type": "markdown",
      "id": "ea37661f-9219-4f2c-bcc0-81171308bc3d",
      "metadata": {},
      "source": [
        "We also decided to focus our project on a more specific group of people to really slim down our solutions and decided on the parameters: \n",
        "- *Parents of children ages 0-5*\n",
        "- *Living in central gothenburg*\n",
        "- *Living in apartments*\n",
        "\n",
        "and decided on a preliminary **problem definition**: \n",
        "    *Föräldrar med barn i åldern 0–5 år som bor i lägenhet i centrala Göteborg upplever att de har begränsad egentid. Detta beror främst på att småbarnslivet kräver mycket tid och energi, vilket påverkar deras möjligheter till återhämtning och välmående.*"
      ]
    },
    {
      "cell_type": "markdown",
      "id": "e3a6457e-2e7f-46fc-b2df-fcdea3e280de",
      "metadata": {},
      "source": [
        "### Prototyping: \n",
        "We started prototyping through discussing a list of possible solutions/features, and then individually sketching out our ideas of how it could look. The first iteration of sketches focused on **planning/optimizing time** and the list of features was: \n",
        "\n",
        "- Funktioner som tagits upp som förslag:\n",
        "- Snabb överblick hur dagen kommer se ut\n",
        "- Lägga in barnen aktiviteter och dina egna\n",
        "- Gemensam kalender för både dig och din partner där man även kan bjuda in anhöriga\n",
        "- Enklast resväg med västtrafik\n",
        "- Boka träningspass\n",
        "- Statistik över saker (exempelvis träning)\n",
        "- Statistik mående\n",
        "- Kartfunktion\n",
        "- Funktion som generera optimal rut för valda ärenden\n",
        "- Lägg till alla aktiviteter som behöver göras\n",
        "- Möjlighet att fördela aktiviteter mellan varandra\n",
        "- Se hur lång tid olika saker tar\n",
        "- Statistik på hur fulla bussarna är\n",
        "- Totalt spenderade timmar\n",
        "- Statistik över vad som tar mest tid\n",
        "- Scrumboard liknande funktion \n",
        "- Aktiviteter kan skrivas vid sidan av innan det läggs in i kalendern\n",
        "- Aktivitetsförfrågan (till sin partner, kommunicera)\n",
        "- Dagschema (live plan, vad händer nu och vad ska jag göra för att det ska gå smidigt?\n",
        "\n",
        "And these are our sketches: **(Link)**\n",
        "\n",
        "Hej"
      ]
    }
  ],
  "metadata": {
    "kernelspec": {
      "display_name": "Python (Pyodide)",
      "language": "python",
      "name": "python"
    },
    "language_info": {
      "codemirror_mode": {
        "name": "python",
        "version": 3
      },
      "file_extension": ".py",
      "mimetype": "text/x-python",
      "name": "python",
      "nbconvert_exporter": "python",
      "pygments_lexer": "ipython3",
      "version": "3.8"
    }
  },
  "nbformat": 4,
  "nbformat_minor": 5
}
